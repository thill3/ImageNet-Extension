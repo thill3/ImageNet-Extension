{
 "cells": [
  {
   "cell_type": "code",
   "execution_count": null,
   "metadata": {},
   "outputs": [],
   "source": [
    "#Setting up the system"
   ]
  },
  {
   "cell_type": "code",
   "execution_count": null,
   "metadata": {},
   "outputs": [],
   "source": [
    "#basic libraries"
   ]
  },
  {
   "cell_type": "code",
   "execution_count": null,
   "metadata": {},
   "outputs": [],
   "source": [
    "import os \n",
    "import zipfile \n",
    "import tensorflow as tf \n",
    "from tensorflow.keras.preprocessing.image import ImageDataGenerator \n",
    "from tensorflow.keras import layers \n",
    "from tensorflow.keras import Model \n",
    "import matplotlib.pyplot as plt"
   ]
  },
  {
   "cell_type": "code",
   "execution_count": null,
   "metadata": {},
   "outputs": [],
   "source": [
    "os.getcwd()"
   ]
  },
  {
   "cell_type": "code",
   "execution_count": null,
   "metadata": {},
   "outputs": [],
   "source": [
    "os.chdir('''MyWorkingDirectory''')"
   ]
  },
  {
   "cell_type": "code",
   "execution_count": null,
   "metadata": {},
   "outputs": [],
   "source": [
    "base_dir = os.getcwd()\n",
    "\n",
    "train_dir = 'HW5train'\n",
    "val_dir = 'HW5val'\n",
    "test_dir = 'HW5test'\n",
    "\n",
    "train_cats_dir = os.path.join(base_dir, train_dir, 'cat')\n",
    "train_dogs_dir = os.path.join(base_dir, train_dir, 'dog')\n",
    "train_elephants_dir = os.path.join(base_dir, train_dir, 'elephant')\n",
    "\n",
    "val_cats_dir = os.path.join(base_dir, val_dir, 'cat')\n",
    "val_dogs_dir = os.path.join(base_dir, val_dir, 'dog')\n",
    "val_elephants_dir = os.path.join(base_dir, val_dir, 'elephant')\n",
    "\n",
    "test_cats_dir = os.path.join(base_dir, test_dir, 'cat')\n",
    "test_dogs_dir = os.path.join(base_dir, test_dir, 'dog')\n",
    "test_elephants_dir = os.path.join(base_dir, test_dir, 'elephant')"
   ]
  },
  {
   "cell_type": "code",
   "execution_count": null,
   "metadata": {},
   "outputs": [],
   "source": [
    "b_s = 10#fp #batch_size\n",
    "s_p_e = 9#sp #steps per epoch\n",
    "n_e = 20#tp #number of epochs\n",
    "#experience says that having a very large number of epochs is a bad idea"
   ]
  },
  {
   "cell_type": "code",
   "execution_count": null,
   "metadata": {},
   "outputs": [],
   "source": [
    "#Check whether images have been loaded correctly\n",
    "import matplotlib.image as mpimg\n",
    "nrows = 6\n",
    "ncols = 4\n",
    "\n",
    "fig = plt.gcf()\n",
    "fig.set_size_inches(ncols*4, nrows*4)\n",
    "pic_index = 100\n",
    "\n",
    "#get the names of the individual files\n",
    "train_cat_fnames = os.listdir( train_cats_dir )\n",
    "train_dog_fnames = os.listdir( train_dogs_dir )\n",
    "train_elephant_fnames = os.listdir( train_elephants_dir )\n",
    "\n",
    "#grab eight pictures from each file\n",
    "next_cat_pix = [os.path.join(train_cats_dir, fname) \n",
    "                for fname in train_cat_fnames[ pic_index-8:pic_index] \n",
    "               ]\n",
    "\n",
    "next_dog_pix = [os.path.join(train_dogs_dir, fname) \n",
    "                for fname in train_dog_fnames[ pic_index-8:pic_index]\n",
    "               ]\n",
    "\n",
    "next_elephant_pix = [os.path.join(train_elephants_dir, fname) \n",
    "                for fname in train_elephant_fnames[ pic_index-8:pic_index]\n",
    "               ]\n",
    "\n",
    "#put them is a grid to look at.\n",
    "for i, img_path in enumerate(next_cat_pix+next_dog_pix+next_elephant_pix):\n",
    "  # Set up subplot; subplot indices start at 1\n",
    "  sp = plt.subplot(nrows, ncols, i + 1)\n",
    "  sp.axis('Off') # Don't show axes (or gridlines)\n",
    "\n",
    "  img = mpimg.imread(img_path)\n",
    "  plt.imshow(img)\n",
    "\n",
    "plt.show()"
   ]
  },
  {
   "cell_type": "code",
   "execution_count": null,
   "metadata": {},
   "outputs": [],
   "source": [
    "train_datagen = ImageDataGenerator(rescale = 1.0/255. )\n",
    "val_datagen = ImageDataGenerator( rescale = 1.0/255. )\n",
    "test_datagen = ImageDataGenerator( rescale = 1.0/255. )"
   ]
  },
  {
   "cell_type": "code",
   "execution_count": null,
   "metadata": {},
   "outputs": [],
   "source": [
    "train_generator = train_datagen.flow_from_directory(train_dir, batch_size = b_s, class_mode = 'categorical', target_size = (150, 150))\n",
    "validation_generator = test_datagen.flow_from_directory(val_dir, batch_size = b_s, class_mode = 'categorical', target_size = (150, 150))"
   ]
  },
  {
   "cell_type": "code",
   "execution_count": null,
   "metadata": {},
   "outputs": [],
   "source": [
    "#Load the base model\n",
    "#i.e. download it from https://storage.googleapis.com/tesorflow/keras-applications/inception_v3/inception_v3_weights_tf_dim_ordering_tf_kerels_notop.h5\n",
    "from tensorflow.keras.applications.inception_v3 import InceptionV3\n",
    "from keras import models\n",
    "from keras import layers\n",
    "model = models.Sequential()\n",
    "base_model = InceptionV3(input_shape = (150, 150, 3), include_top = False, weights = 'imagenet')\n",
    "model.add(base_model)"
   ]
  },
  {
   "cell_type": "code",
   "execution_count": null,
   "metadata": {},
   "outputs": [],
   "source": [
    "#Make sure that we don't train the weights.\n",
    "for layer in base_model.layers:\n",
    "    layer.trainable = False"
   ]
  },
  {
   "cell_type": "code",
   "execution_count": null,
   "metadata": {},
   "outputs": [],
   "source": [
    "#Create the model to go on top of the base model\n",
    "from tensorflow.keras.optimizers import Adamax\n",
    "import keras\n",
    "\n",
    "model.add(layers.Flatten())\n",
    "model.add(layers.Dense(512, activation='relu'))\n",
    "model.add(layers.BatchNormalization())\n",
    "model.add(layers.Dense(3, activation='softmax'))\n",
    "\n",
    "lr = 4 \n",
    "\n",
    "opt = Adamax(learning_rate=10**-lr)\n",
    "model.compile(optimizer=opt\n",
    "              ,loss='categorical_crossentropy'\n",
    "              ,metrics=['accuracy'])"
   ]
  },
  {
   "cell_type": "code",
   "execution_count": null,
   "metadata": {},
   "outputs": [],
   "source": [
    "#Let's see a summary\n",
    "print(model.summary())"
   ]
  },
  {
   "cell_type": "code",
   "execution_count": null,
   "metadata": {},
   "outputs": [],
   "source": [
    "#fit the model\n",
    "import time\n",
    "start = time.time()\n",
    "\n",
    "history = model.fit(\n",
    "    train_generator\n",
    "    , validation_data = validation_generator\n",
    "    , steps_per_epoch = s_p_e\n",
    "    , epochs = n_e)\n",
    "\n",
    "end = time.time()\n",
    "print('Number of seconds: ',end - start)"
   ]
  },
  {
   "cell_type": "code",
   "execution_count": null,
   "metadata": {},
   "outputs": [],
   "source": [
    "#plotting loss and accuracy\n",
    "history_dict = history.history\n",
    "#print(history_dict.keys())\n",
    "acc = history.history['accuracy']\n",
    "val_acc = history.history['val_accuracy']\n",
    "loss = history.history['loss']\n",
    "val_loss = history.history['val_loss']\n",
    "epochs = range(1, len(acc) + 1)\n",
    "# \"bo\" is for \"blue dot\"\n",
    "import matplotlib.pyplot as plt\n",
    "plt.plot(epochs[1:len(epochs)], loss[1:len(loss)], 'bo', label='Training loss')\n",
    "# b is for \"solid blue line\"\n",
    "plt.plot(epochs[1:len(epochs)], val_loss[1:len(val_loss)], 'b', label='Validation loss')\n",
    "plt.axes().set_xticks([0,2,4,6,8,10,12,14,16,18,20])\n",
    "plt.title('Training and validation loss')\n",
    "plt.xlabel('Epoch')\n",
    "plt.ylabel('Loss')\n",
    "plt.legend()\n",
    "plt.show()\n",
    "plt.clf()"
   ]
  },
  {
   "cell_type": "code",
   "execution_count": null,
   "metadata": {},
   "outputs": [],
   "source": [
    "plt.plot(epochs, acc, 'ro', label = 'Training Accuracy')\n",
    "plt.plot(epochs, val_acc, 'r', label = 'Validation Accuracy')\n",
    "plt.axes().set_xticks([0,2,4,6,8,10,12,14,16,18,20])\n",
    "plt.title('Training and validation accuracy')\n",
    "plt.xlabel('Epoch')\n",
    "plt.ylabel('Accuracy')\n",
    "plt.legend()\n",
    "plt.show()\n",
    "plt.clf()"
   ]
  },
  {
   "cell_type": "code",
   "execution_count": null,
   "metadata": {},
   "outputs": [],
   "source": [
    "import operator\n",
    "diff = list(map(operator.sub, acc, val_acc))\n",
    "diff2 = list(map(operator.sub, loss, val_loss))\n",
    "plt.plot(epochs, diff, 'r', label = 'Accuracy Difference')\n",
    "plt.plot(epochs, diff2, 'b', label = 'Loss Difference')\n",
    "plt.axhline(y = 0, color = 'g', linestyle = '--') \n",
    "plt.axes().set_xticks([0,2,4,6,8,10,12,14,16,18,20])\n",
    "plt.title('Training minus validation accuracy difference')\n",
    "plt.xlabel('Epoch')\n",
    "plt.ylabel('Accuracy Difference')\n",
    "plt.legend()\n",
    "plt.show()\n",
    "plt.clf()"
   ]
  },
  {
   "cell_type": "code",
   "execution_count": null,
   "metadata": {},
   "outputs": [],
   "source": []
  },
  {
   "cell_type": "code",
   "execution_count": null,
   "metadata": {},
   "outputs": [],
   "source": []
  }
 ],
 "metadata": {
  "kernelspec": {
   "display_name": "Python 3",
   "language": "python",
   "name": "python3"
  },
  "language_info": {
   "codemirror_mode": {
    "name": "ipython",
    "version": 3
   },
   "file_extension": ".py",
   "mimetype": "text/x-python",
   "name": "python",
   "nbconvert_exporter": "python",
   "pygments_lexer": "ipython3",
   "version": "3.8.1"
  }
 },
 "nbformat": 4,
 "nbformat_minor": 4
}
